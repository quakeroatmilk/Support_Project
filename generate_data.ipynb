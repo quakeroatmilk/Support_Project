{
 "cells": [
  {
   "cell_type": "code",
   "execution_count": 4,
   "metadata": {},
   "outputs": [
    {
     "ename": "OperationalError",
     "evalue": "unable to open database file",
     "output_type": "error",
     "traceback": [
      "\u001b[1;31m---------------------------------------------------------------------------\u001b[0m",
      "\u001b[1;31mOperationalError\u001b[0m                          Traceback (most recent call last)",
      "Cell \u001b[1;32mIn[4], line 9\u001b[0m\n\u001b[0;32m      6\u001b[0m fake \u001b[38;5;241m=\u001b[39m Faker()\n\u001b[0;32m      8\u001b[0m \u001b[38;5;66;03m# Connect to the SQLite database (replace 'your_database.db' with the path to your database file)\u001b[39;00m\n\u001b[1;32m----> 9\u001b[0m conn \u001b[38;5;241m=\u001b[39m \u001b[43msqlite3\u001b[49m\u001b[38;5;241;43m.\u001b[39;49m\u001b[43mconnect\u001b[49m\u001b[43m(\u001b[49m\u001b[38;5;124;43m'\u001b[39;49m\u001b[38;5;124;43m/static/data/feedback.db\u001b[39;49m\u001b[38;5;124;43m'\u001b[39;49m\u001b[43m)\u001b[49m\n\u001b[0;32m     10\u001b[0m cursor \u001b[38;5;241m=\u001b[39m conn\u001b[38;5;241m.\u001b[39mcursor()\n\u001b[0;32m     12\u001b[0m \u001b[38;5;66;03m# Function to generate random positive comments\u001b[39;00m\n",
      "\u001b[1;31mOperationalError\u001b[0m: unable to open database file"
     ]
    }
   ],
   "source": [
    "import sqlite3\n",
    "from faker import Faker\n",
    "import random\n",
    "\n",
    "# Initialize Faker to generate random names and emails\n",
    "fake = Faker()\n",
    "\n",
    "# Connect to the SQLite database (replace 'your_database.db' with the path to your database file)\n",
    "conn = sqlite3.connect('/static/data/feedback.db')\n",
    "cursor = conn.cursor()\n",
    "\n",
    "# Function to generate random positive comments\n",
    "def generate_positive_comment():\n",
    "    comments = [\n",
    "        \"Excellent service and quick response!\",\n",
    "        \"Very helpful support team, thank you!\",\n",
    "        \"The product exceeded my expectations.\",\n",
    "        \"Great experience, will definitely recommend.\",\n",
    "        \"Good support, resolved my issue quickly.\",\n",
    "        \"Friendly staff and amazing service!\",\n",
    "        \"Superb experience, will be back again.\",\n",
    "        \"High-quality product, highly recommend.\",\n",
    "        \"Customer service was top-notch!\",\n",
    "        \"Efficient and reliable, very satisfied.\"\n",
    "    ]\n",
    "    return random.choice(comments)\n",
    "\n",
    "# Generate and insert 300 rows of positive feedback\n",
    "for _ in range(300):\n",
    "    name = fake.name()  # Generate a random name\n",
    "    email = fake.email()  # Generate a random email\n",
    "    feedback_type = random.choice(['General', 'Support', 'Product'])  # Choose a random feedback type\n",
    "    rating = random.randint(4, 5)  # Positive ratings are either 4 or 5\n",
    "    comment = generate_positive_comment()  # Generate a random positive comment\n",
    "    sentiment = 'positive'  # Set the sentiment to positive\n",
    "\n",
    "    # SQL command to insert the data into the feedback table\n",
    "    cursor.execute('''\n",
    "        INSERT INTO feedback (name, email, feedback_type, rating, comments, sentiment)\n",
    "        VALUES (?, ?, ?, ?, ?, ?)\n",
    "    ''', (name, email, feedback_type, rating, comment, sentiment))\n",
    "\n",
    "# Commit the changes to the database and close the connection\n",
    "conn.commit()\n",
    "conn.close()\n",
    "\n",
    "print(\"300 positive feedback records added successfully!\")\n",
    "\n"
   ]
  },
  {
   "cell_type": "code",
   "execution_count": null,
   "metadata": {},
   "outputs": [],
   "source": []
  }
 ],
 "metadata": {
  "kernelspec": {
   "display_name": "Python 3",
   "language": "python",
   "name": "python3"
  },
  "language_info": {
   "codemirror_mode": {
    "name": "ipython",
    "version": 3
   },
   "file_extension": ".py",
   "mimetype": "text/x-python",
   "name": "python",
   "nbconvert_exporter": "python",
   "pygments_lexer": "ipython3",
   "version": "3.10.10"
  }
 },
 "nbformat": 4,
 "nbformat_minor": 2
}
